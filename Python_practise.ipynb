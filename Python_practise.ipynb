{
  "nbformat": 4,
  "nbformat_minor": 0,
  "metadata": {
    "colab": {
      "provenance": [],
      "authorship_tag": "ABX9TyNpm2cXYJVG4AcYB+TMYJI5",
      "include_colab_link": true
    },
    "kernelspec": {
      "name": "python3",
      "display_name": "Python 3"
    },
    "language_info": {
      "name": "python"
    }
  },
  "cells": [
    {
      "cell_type": "markdown",
      "metadata": {
        "id": "view-in-github",
        "colab_type": "text"
      },
      "source": [
        "<a href=\"https://colab.research.google.com/github/Mythresh09/Game-theory/blob/main/Python_practise.ipynb\" target=\"_parent\"><img src=\"https://colab.research.google.com/assets/colab-badge.svg\" alt=\"Open In Colab\"/></a>"
      ]
    },
    {
      "cell_type": "code",
      "source": [
        "age= 35\n",
        "print(type(age))"
      ],
      "metadata": {
        "colab": {
          "base_uri": "https://localhost:8080/"
        },
        "id": "V9N5EE-C4-dJ",
        "outputId": "78cb1895-bcfe-4ce2-cfd0-26bf9fbf654e"
      },
      "execution_count": null,
      "outputs": [
        {
          "output_type": "stream",
          "name": "stdout",
          "text": [
            "<class 'int'>\n"
          ]
        }
      ]
    },
    {
      "cell_type": "code",
      "execution_count": null,
      "metadata": {
        "colab": {
          "base_uri": "https://localhost:8080/"
        },
        "id": "3k3SVrVG32G9",
        "outputId": "ee66f708-0386-4840-a47f-1207bca1ada9"
      },
      "outputs": [
        {
          "output_type": "stream",
          "name": "stdout",
          "text": [
            "Enter a number: -20\n",
            "the number is negative\n"
          ]
        }
      ],
      "source": [
        "\n",
        "num = int(input(\"Enter a number: \"))\n",
        "if num > 0:\n",
        "  print(\"the number is positive\")\n",
        "elif num <0:\n",
        "    print(\"the number is negative\")\n",
        "else:\n",
        "      print(\"the number is zero\")\n",
        "      print(\"the number is zero\")"
      ]
    },
    {
      "cell_type": "code",
      "source": [
        "\n",
        "score = int(input(\"enter the students score\"))\n",
        "if score >= 90:\n",
        "    grade = \"A\"\n",
        "elif score >= 80:\n",
        "    grade = \"B\"\n",
        "elif score >= 70:\n",
        "    grade = \"C\"\n",
        "elif score >= 60:\n",
        "    grade = \"D\"\n",
        "else:\n",
        "    grade = \"F\"\n",
        "print(f\"the students grade is : {grade}\")\n"
      ],
      "metadata": {
        "colab": {
          "base_uri": "https://localhost:8080/"
        },
        "id": "F1DUgbxv6TEl",
        "outputId": "33f64064-b0c9-4331-c4af-9bb0ff19a944"
      },
      "execution_count": null,
      "outputs": [
        {
          "output_type": "stream",
          "name": "stdout",
          "text": [
            "enter the students score60\n",
            "the students grade is : D\n"
          ]
        }
      ]
    },
    {
      "cell_type": "code",
      "source": [
        "for i in range(1,11):\n",
        " print(i)"
      ],
      "metadata": {
        "colab": {
          "base_uri": "https://localhost:8080/"
        },
        "id": "tGYJ10j-AqLT",
        "outputId": "74270a77-75cd-4ea0-dfd6-278272881f2f"
      },
      "execution_count": null,
      "outputs": [
        {
          "output_type": "stream",
          "name": "stdout",
          "text": [
            "1\n",
            "2\n",
            "3\n",
            "4\n",
            "5\n",
            "6\n",
            "7\n",
            "8\n",
            "9\n",
            "10\n"
          ]
        }
      ]
    },
    {
      "cell_type": "code",
      "source": [
        "num=int()"
      ],
      "metadata": {
        "id": "xCy2Hg_qCSGR"
      },
      "execution_count": null,
      "outputs": []
    }
  ]
}